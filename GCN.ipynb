{
 "cells": [
  {
   "cell_type": "markdown",
   "metadata": {},
   "source": [
    "## Using GCN on the CommonsenseQA dataset"
   ]
  },
  {
   "cell_type": "code",
   "execution_count": 11,
   "metadata": {
    "ExecuteTime": {
     "end_time": "2019-03-15T15:34:45.948231Z",
     "start_time": "2019-03-15T15:34:45.937293Z"
    }
   },
   "outputs": [
    {
     "data": {
      "text/plain": [
       "<module 'Graph_Conv_Network' from 'C:\\\\Users\\\\sylvanus\\\\Documents\\\\Projects\\\\NLP_git\\\\Graph_Conv_Network.py'>"
      ]
     },
     "execution_count": 11,
     "metadata": {},
     "output_type": "execute_result"
    }
   ],
   "source": [
    "import numpy as np, pandas as pd\n",
    "import matplotlib.pyplot as plt\n",
    "import torch\n",
    "import torch.nn as nn\n",
    "import torch.optim as optim\n",
    "import torch.autograd\n",
    "import torch.nn.functional as F\n",
    "\n",
    "from torch.autograd import Variable\n",
    "\n",
    "import Graph_Conv_Network\n",
    "import conceptnet\n",
    "import importlib\n",
    "importlib.reload(conceptnet)\n",
    "importlib.reload(Graph_Conv_Network)"
   ]
  },
  {
   "cell_type": "code",
   "execution_count": 12,
   "metadata": {
    "ExecuteTime": {
     "end_time": "2019-03-15T15:34:55.292352Z",
     "start_time": "2019-03-15T15:34:45.951224Z"
    }
   },
   "outputs": [],
   "source": [
    "CN = conceptnet.ConceptNet()"
   ]
  },
  {
   "cell_type": "code",
   "execution_count": 13,
   "metadata": {
    "ExecuteTime": {
     "end_time": "2019-03-15T15:34:58.496942Z",
     "start_time": "2019-03-15T15:34:55.294344Z"
    }
   },
   "outputs": [],
   "source": [
    "CN.load_file()\n",
    "CN.build_vocab()\n",
    "CN.load_triplets()\n",
    "CN.get_source_concept()\n"
   ]
  },
  {
   "cell_type": "code",
   "execution_count": 14,
   "metadata": {
    "ExecuteTime": {
     "end_time": "2019-03-15T15:35:32.553681Z",
     "start_time": "2019-03-15T15:34:58.499769Z"
    }
   },
   "outputs": [],
   "source": [
    "CN.construct_subgraph()"
   ]
  },
  {
   "cell_type": "code",
   "execution_count": 15,
   "metadata": {
    "ExecuteTime": {
     "end_time": "2019-03-15T15:35:32.561656Z",
     "start_time": "2019-03-15T15:35:32.555669Z"
    }
   },
   "outputs": [],
   "source": [
    "class Flatten(nn.Module):\n",
    "    def forward(self, dictionary): \n",
    "        #dictionary contains input and adj. we want input\n",
    "        input = dictionary['input']\n",
    "        return input.view(input.size()[0],-1)"
   ]
  },
  {
   "cell_type": "code",
   "execution_count": 16,
   "metadata": {
    "ExecuteTime": {
     "end_time": "2019-03-15T15:35:32.582598Z",
     "start_time": "2019-03-15T15:35:32.566641Z"
    }
   },
   "outputs": [],
   "source": [
    "def batch_handler_for_GCN(batch_size, CN):\n",
    "    #returns a list of inputs/outputs in batches of batch_size\n",
    "    #CN is a conceptnet instance\n",
    "    n_examples = len(CN.choices)\n",
    "    \n",
    "    '''\n",
    "    feed_list should be populated with dictionaries that have two keys, 'input' and 'adj',\n",
    "    the value of 'input' is a matrix of dimension (batch_size x n_nodes x feature_size)\n",
    "    the value of 'adj' is a matrix of dimension (batch_size x n_nodes x n_nodes)\n",
    "    '''\n",
    "    feed_list = []\n",
    "    \n",
    "    '''\n",
    "    label_list should be populated with matrices of dimension (batch_size x 1)\n",
    "    '''\n",
    "    label_list = [] #should be populated with labels 1,2,3\n",
    "    \n",
    "    #convert A,B,C into 0,1,2\n",
    "    labels = [torch.tensor(('B'==label) + ('C' == label) *2) for label in CN.labels]\n",
    "    \n",
    "    n_batches = int(n_examples/batch_size)\n",
    "    \n",
    "    for i in range(n_batches):\n",
    "        start_index = batch_size*i\n",
    "        end_index = batch_size*(i+1)\n",
    "        \n",
    "        temp_labels = torch.tensor(labels[start_index:end_index])\n",
    "        temp_adj = CN.adjacency_mat[start_index][None,:]\n",
    "        temp_feat = CN.Gfeature_mat[start_index][None,:]\n",
    "        \n",
    "        for j in range(start_index + 1, end_index):\n",
    "            temp_adj = torch.cat((temp_adj, CN.adjacency_mat[j][None,:]), dim = 0)\n",
    "            temp_feat = torch.cat((temp_feat, CN.Gfeature_mat[j][None,:]), dim = 0)\n",
    "            \n",
    "        feed_list.append({'input':Variable(temp_feat), 'adj':Variable(temp_adj)})\n",
    "        label_list.append(temp_labels)\n",
    "    return feed_list, label_list"
   ]
  },
  {
   "cell_type": "code",
   "execution_count": 17,
   "metadata": {
    "ExecuteTime": {
     "end_time": "2019-03-15T15:35:32.598555Z",
     "start_time": "2019-03-15T15:35:32.586587Z"
    }
   },
   "outputs": [],
   "source": [
    "model = nn.Sequential(Graph_Conv_Network.GCN(768, 40), \n",
    "                      Graph_Conv_Network.GCN(40, 10),\n",
    "                      Flatten(), \n",
    "                      nn.Linear(40, 3))\n",
    "\n",
    "criterion = nn.CrossEntropyLoss()\n",
    "\n",
    "optimizer = optim.Adam(model.parameters(), lr=0.01, betas=(0.7, 0.99))"
   ]
  },
  {
   "cell_type": "code",
   "execution_count": 18,
   "metadata": {
    "ExecuteTime": {
     "end_time": "2019-03-15T15:35:35.111187Z",
     "start_time": "2019-03-15T15:35:35.030336Z"
    }
   },
   "outputs": [
    {
     "ename": "IndexError",
     "evalue": "list index out of range",
     "output_type": "error",
     "traceback": [
      "\u001b[1;31m---------------------------------------------------------------------------\u001b[0m",
      "\u001b[1;31mIndexError\u001b[0m                                Traceback (most recent call last)",
      "\u001b[1;32m<ipython-input-18-ecebe891f640>\u001b[0m in \u001b[0;36m<module>\u001b[1;34m()\u001b[0m\n\u001b[0;32m     20\u001b[0m \u001b[1;33m\u001b[0m\u001b[0m\n\u001b[0;32m     21\u001b[0m         \u001b[0mprint\u001b[0m\u001b[1;33m(\u001b[0m\u001b[1;34m'Epoch'\u001b[0m\u001b[1;33m,\u001b[0m \u001b[0mi\u001b[0m\u001b[1;33m,\u001b[0m \u001b[1;34m':'\u001b[0m\u001b[1;33m,\u001b[0m \u001b[0mLoss\u001b[0m\u001b[1;33m)\u001b[0m\u001b[1;33m\u001b[0m\u001b[0m\n\u001b[1;32m---> 22\u001b[1;33m \u001b[0mtrain\u001b[0m\u001b[1;33m(\u001b[0m\u001b[1;36m50\u001b[0m\u001b[1;33m,\u001b[0m \u001b[1;36m10\u001b[0m\u001b[1;33m,\u001b[0m \u001b[0mCN\u001b[0m\u001b[1;33m)\u001b[0m\u001b[1;33m\u001b[0m\u001b[0m\n\u001b[0m",
      "\u001b[1;32m<ipython-input-18-ecebe891f640>\u001b[0m in \u001b[0;36mtrain\u001b[1;34m(epochs, batch_size, CN)\u001b[0m\n\u001b[0;32m      1\u001b[0m \u001b[1;32mdef\u001b[0m \u001b[0mtrain\u001b[0m\u001b[1;33m(\u001b[0m\u001b[0mepochs\u001b[0m\u001b[1;33m,\u001b[0m \u001b[0mbatch_size\u001b[0m\u001b[1;33m,\u001b[0m \u001b[0mCN\u001b[0m\u001b[1;33m)\u001b[0m\u001b[1;33m:\u001b[0m\u001b[1;33m\u001b[0m\u001b[0m\n\u001b[1;32m----> 2\u001b[1;33m     \u001b[0mfeed_list\u001b[0m\u001b[1;33m,\u001b[0m \u001b[0mlabel_list\u001b[0m \u001b[1;33m=\u001b[0m \u001b[0mbatch_handler_for_GCN\u001b[0m\u001b[1;33m(\u001b[0m\u001b[0mbatch_size\u001b[0m\u001b[1;33m,\u001b[0m \u001b[0mCN\u001b[0m\u001b[1;33m)\u001b[0m\u001b[1;33m\u001b[0m\u001b[0m\n\u001b[0m\u001b[0;32m      3\u001b[0m     \u001b[0mfeed_list\u001b[0m \u001b[1;33m=\u001b[0m \u001b[0mfeed_list\u001b[0m\u001b[1;33m[\u001b[0m\u001b[1;36m0\u001b[0m\u001b[1;33m:\u001b[0m\u001b[1;36m700\u001b[0m\u001b[1;33m]\u001b[0m\u001b[1;33m\u001b[0m\u001b[0m\n\u001b[0;32m      4\u001b[0m     \u001b[0mlabel_list\u001b[0m \u001b[1;33m=\u001b[0m \u001b[0mlabel_list\u001b[0m\u001b[1;33m[\u001b[0m\u001b[1;36m0\u001b[0m\u001b[1;33m:\u001b[0m\u001b[1;36m700\u001b[0m\u001b[1;33m]\u001b[0m\u001b[1;33m\u001b[0m\u001b[0m\n\u001b[0;32m      5\u001b[0m     \u001b[1;32mfor\u001b[0m \u001b[0mi\u001b[0m \u001b[1;32min\u001b[0m \u001b[0mrange\u001b[0m\u001b[1;33m(\u001b[0m\u001b[0mepochs\u001b[0m\u001b[1;33m)\u001b[0m\u001b[1;33m:\u001b[0m\u001b[1;33m\u001b[0m\u001b[0m\n",
      "\u001b[1;32m<ipython-input-16-52377b1cee12>\u001b[0m in \u001b[0;36mbatch_handler_for_GCN\u001b[1;34m(batch_size, CN)\u001b[0m\n\u001b[0;32m     27\u001b[0m         \u001b[0mtemp_labels\u001b[0m \u001b[1;33m=\u001b[0m \u001b[0mtorch\u001b[0m\u001b[1;33m.\u001b[0m\u001b[0mtensor\u001b[0m\u001b[1;33m(\u001b[0m\u001b[0mlabels\u001b[0m\u001b[1;33m[\u001b[0m\u001b[0mstart_index\u001b[0m\u001b[1;33m:\u001b[0m\u001b[0mend_index\u001b[0m\u001b[1;33m]\u001b[0m\u001b[1;33m)\u001b[0m\u001b[1;33m\u001b[0m\u001b[0m\n\u001b[0;32m     28\u001b[0m         \u001b[0mtemp_adj\u001b[0m \u001b[1;33m=\u001b[0m \u001b[0mCN\u001b[0m\u001b[1;33m.\u001b[0m\u001b[0madjacency_mat\u001b[0m\u001b[1;33m[\u001b[0m\u001b[0mstart_index\u001b[0m\u001b[1;33m]\u001b[0m\u001b[1;33m[\u001b[0m\u001b[1;32mNone\u001b[0m\u001b[1;33m,\u001b[0m\u001b[1;33m:\u001b[0m\u001b[1;33m]\u001b[0m\u001b[1;33m\u001b[0m\u001b[0m\n\u001b[1;32m---> 29\u001b[1;33m         \u001b[0mtemp_feat\u001b[0m \u001b[1;33m=\u001b[0m \u001b[0mCN\u001b[0m\u001b[1;33m.\u001b[0m\u001b[0mGfeature_mat\u001b[0m\u001b[1;33m[\u001b[0m\u001b[0mstart_index\u001b[0m\u001b[1;33m]\u001b[0m\u001b[1;33m[\u001b[0m\u001b[1;32mNone\u001b[0m\u001b[1;33m,\u001b[0m\u001b[1;33m:\u001b[0m\u001b[1;33m]\u001b[0m\u001b[1;33m\u001b[0m\u001b[0m\n\u001b[0m\u001b[0;32m     30\u001b[0m \u001b[1;33m\u001b[0m\u001b[0m\n\u001b[0;32m     31\u001b[0m         \u001b[1;32mfor\u001b[0m \u001b[0mj\u001b[0m \u001b[1;32min\u001b[0m \u001b[0mrange\u001b[0m\u001b[1;33m(\u001b[0m\u001b[0mstart_index\u001b[0m \u001b[1;33m+\u001b[0m \u001b[1;36m1\u001b[0m\u001b[1;33m,\u001b[0m \u001b[0mend_index\u001b[0m\u001b[1;33m)\u001b[0m\u001b[1;33m:\u001b[0m\u001b[1;33m\u001b[0m\u001b[0m\n",
      "\u001b[1;31mIndexError\u001b[0m: list index out of range"
     ]
    }
   ],
   "source": [
    "def train(epochs, batch_size, CN):\n",
    "    feed_list, label_list = batch_handler_for_GCN(batch_size, CN)\n",
    "    feed_list = feed_list[0:700]\n",
    "    label_list = label_list[0:700]\n",
    "    for i in range(epochs):\n",
    "        \n",
    "        Loss = 0\n",
    "        for in_dict, labels in zip(feed_list, label_list):\n",
    "            # zero gradient\n",
    "            model.zero_grad()\n",
    "            \n",
    "            pred = model(in_dict)\n",
    "            loss = criterion(pred, labels)\n",
    "            \n",
    "            loss.backward()\n",
    "            \n",
    "            optimizer.step()\n",
    "            \n",
    "            Loss += loss\n",
    "            \n",
    "        print('Epoch', i, ':', Loss)\n",
    "train(50, 10, CN)"
   ]
  },
  {
   "cell_type": "markdown",
   "metadata": {},
   "source": [
    "# Sadly, GCN seems to be no more better than random...."
   ]
  },
  {
   "cell_type": "code",
   "execution_count": 50,
   "metadata": {},
   "outputs": [
    {
     "name": "stdout",
     "output_type": "stream",
     "text": [
      "tensor(0.2808)\n"
     ]
    }
   ],
   "source": [
    "def test(batch_size, CN):\n",
    "    feed_list, label_list = batch_handler_for_GCN(batch_size, CN)\n",
    "    feed_list =  feed_list[700:]\n",
    "    label_list = label_list[700:]\n",
    "    correct = 0\n",
    "    total = 0\n",
    "    for in_dict, labels in zip(feed_list, label_list):\n",
    "        # zero gradient\n",
    "        model.zero_grad()\n",
    "\n",
    "        pred = model(in_dict)\n",
    "        correct += ((labels == pred.argmax(dim = 1)).sum())\n",
    "        total += 10\n",
    "    print(correct.float()/total)\n",
    "\n",
    "test(10, CN)\n",
    "    "
   ]
  },
  {
   "cell_type": "code",
   "execution_count": null,
   "metadata": {},
   "outputs": [],
   "source": []
  }
 ],
 "metadata": {
  "kernelspec": {
   "display_name": "Python 3",
   "language": "python",
   "name": "python3"
  },
  "language_info": {
   "codemirror_mode": {
    "name": "ipython",
    "version": 3
   },
   "file_extension": ".py",
   "mimetype": "text/x-python",
   "name": "python",
   "nbconvert_exporter": "python",
   "pygments_lexer": "ipython3",
   "version": "3.6.5"
  },
  "latex_envs": {
   "LaTeX_envs_menu_present": true,
   "autoclose": false,
   "autocomplete": true,
   "bibliofile": "biblio.bib",
   "cite_by": "apalike",
   "current_citInitial": 1,
   "eqLabelWithNumbers": true,
   "eqNumInitial": 1,
   "hotkeys": {
    "equation": "Ctrl-E",
    "itemize": "Ctrl-I"
   },
   "labels_anchors": false,
   "latex_user_defs": false,
   "report_style_numbering": false,
   "user_envs_cfg": false
  },
  "toc": {
   "base_numbering": 1,
   "nav_menu": {},
   "number_sections": true,
   "sideBar": true,
   "skip_h1_title": false,
   "title_cell": "Table of Contents",
   "title_sidebar": "Contents",
   "toc_cell": false,
   "toc_position": {},
   "toc_section_display": true,
   "toc_window_display": false
  },
  "varInspector": {
   "cols": {
    "lenName": 16,
    "lenType": 16,
    "lenVar": 40
   },
   "kernels_config": {
    "python": {
     "delete_cmd_postfix": "",
     "delete_cmd_prefix": "del ",
     "library": "var_list.py",
     "varRefreshCmd": "print(var_dic_list())"
    },
    "r": {
     "delete_cmd_postfix": ") ",
     "delete_cmd_prefix": "rm(",
     "library": "var_list.r",
     "varRefreshCmd": "cat(var_dic_list()) "
    }
   },
   "types_to_exclude": [
    "module",
    "function",
    "builtin_function_or_method",
    "instance",
    "_Feature"
   ],
   "window_display": false
  }
 },
 "nbformat": 4,
 "nbformat_minor": 2
}
