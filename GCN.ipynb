{
 "cells": [
  {
   "cell_type": "markdown",
   "metadata": {},
   "source": [
    "## Using GCN on the CommonsenseQA dataset"
   ]
  },
  {
   "cell_type": "code",
   "execution_count": 125,
   "metadata": {},
   "outputs": [
    {
     "data": {
      "text/plain": [
       "<module 'Graph_Conv_Network' from '/home/sean/Documents/UCL/Statistical NLP/Commonsense/commonsenseqa-master (2)/Graph_Conv_Network.py'>"
      ]
     },
     "execution_count": 125,
     "metadata": {},
     "output_type": "execute_result"
    }
   ],
   "source": [
    "import numpy as np, pandas as pd\n",
    "import matplotlib.pyplot as plt\n",
    "import torch\n",
    "import torch.nn as nn\n",
    "import torch.optim as optim\n",
    "import torch.autograd\n",
    "import torch.nn.functional as F\n",
    "\n",
    "from torch.autograd import Variable\n",
    "\n",
    "import Graph_Conv_Network\n",
    "import conceptnet\n",
    "import importlib\n",
    "import json\n",
    "importlib.reload(conceptnet)\n",
    "importlib.reload(Graph_Conv_Network)"
   ]
  },
  {
   "cell_type": "code",
   "execution_count": 126,
   "metadata": {},
   "outputs": [],
   "source": [
    "CN = conceptnet.ConceptNet()"
   ]
  },
  {
   "cell_type": "code",
   "execution_count": 127,
   "metadata": {},
   "outputs": [],
   "source": [
    "CN.load_file()\n",
    "CN.build_vocab()\n",
    "CN.load_triplets()\n",
    "CN.get_source_concept()\n",
    "CN.construct_subgraph()"
   ]
  },
  {
   "cell_type": "code",
   "execution_count": 128,
   "metadata": {},
   "outputs": [],
   "source": [
    "def batch_handler_for_GCN(batch_size, CN):\n",
    "    #returns a list of inputs/outputs in batches of batch_size\n",
    "    #CN is a conceptnet instance\n",
    "    n_examples = len(CN.choices)\n",
    "    \n",
    "    '''\n",
    "    feed_list should be populated with dictionaries that have two keys, 'input' and 'adj',\n",
    "    the value of 'input' is a matrix of dimension (batch_size x n_nodes x feature_size)\n",
    "    the value of 'adj' is a matrix of dimension (batch_size x n_nodes x n_nodes)\n",
    "    '''\n",
    "    feed_list = []\n",
    "    \n",
    "    '''\n",
    "    label_list should be populated with matrices of dimension (batch_size x 1)\n",
    "    '''\n",
    "    label_list = [] #should be populated with labels 1,2,3\n",
    "    \n",
    "    #convert A,B,C into 0,1,2\n",
    "    labels = [torch.tensor(('B'==label) + ('C' == label) *2) for label in CN.labels]\n",
    "    \n",
    "    n_batches = int(n_examples/batch_size)\n",
    "    \n",
    "    for i in range(n_batches):\n",
    "        start_index = batch_size*i\n",
    "        end_index = batch_size*(i+1)\n",
    "        \n",
    "        temp_labels = torch.tensor(labels[start_index:end_index])\n",
    "        temp_adj = CN.adjacency_mat[start_index][None,:]\n",
    "        temp_feat = CN.Gfeature_mat[start_index][None,:]\n",
    "        \n",
    "        for j in range(start_index + 1, end_index):\n",
    "            temp_adj = torch.cat((temp_adj, CN.adjacency_mat[j][None,:]), dim = 0)\n",
    "            temp_feat = torch.cat((temp_feat, CN.Gfeature_mat[j][None,:]), dim = 0)\n",
    "            \n",
    "        feed_list.append({'input':Variable(temp_feat), 'adj':Variable(temp_adj)})\n",
    "        label_list.append(temp_labels)\n",
    "    return feed_list, label_list\n",
    "class Flatten(nn.Module):\n",
    "    def forward(self, dictionary): \n",
    "        #dictionary contains input and adj. we want input\n",
    "        input = dictionary['input']\n",
    "        return input.view(input.size()[0],-1)"
   ]
  },
  {
   "cell_type": "code",
   "execution_count": 129,
   "metadata": {},
   "outputs": [],
   "source": [
    "model = nn.Sequential(Graph_Conv_Network.GCN(768, 40), \n",
    "                      Graph_Conv_Network.GCN(40, 10),\n",
    "                      Flatten(), \n",
    "                      nn.Linear(40, 3))\n",
    "\n",
    "criterion = nn.CrossEntropyLoss()\n",
    "\n",
    "optimizer = optim.Adam(model.parameters(), lr=0.01, betas=(0.7, 0.99))"
   ]
  },
  {
   "cell_type": "code",
   "execution_count": 130,
   "metadata": {},
   "outputs": [
    {
     "name": "stdout",
     "output_type": "stream",
     "text": [
      "Epoch 0 : tensor(1.1077, grad_fn=<DivBackward0>)\n",
      "Epoch 1 : tensor(1.1044, grad_fn=<DivBackward0>)\n",
      "Epoch 2 : tensor(1.0979, grad_fn=<DivBackward0>)\n",
      "Epoch 3 : tensor(1.0801, grad_fn=<DivBackward0>)\n",
      "Epoch 4 : tensor(1.0594, grad_fn=<DivBackward0>)\n",
      "Epoch 5 : tensor(1.0377, grad_fn=<DivBackward0>)\n",
      "Epoch 6 : tensor(1.0209, grad_fn=<DivBackward0>)\n",
      "Epoch 7 : tensor(1.0064, grad_fn=<DivBackward0>)\n",
      "Epoch 8 : tensor(0.9886, grad_fn=<DivBackward0>)\n",
      "Epoch 9 : tensor(0.9765, grad_fn=<DivBackward0>)\n",
      "Epoch 10 : tensor(0.9603, grad_fn=<DivBackward0>)\n",
      "Epoch 11 : tensor(0.9509, grad_fn=<DivBackward0>)\n",
      "Epoch 12 : tensor(0.9409, grad_fn=<DivBackward0>)\n",
      "Epoch 13 : tensor(0.9357, grad_fn=<DivBackward0>)\n",
      "Epoch 14 : tensor(0.9201, grad_fn=<DivBackward0>)\n",
      "Epoch 15 : tensor(0.9154, grad_fn=<DivBackward0>)\n",
      "Epoch 16 : tensor(0.9069, grad_fn=<DivBackward0>)\n",
      "Epoch 17 : tensor(0.8982, grad_fn=<DivBackward0>)\n",
      "Epoch 18 : tensor(0.8929, grad_fn=<DivBackward0>)\n",
      "Epoch 19 : tensor(0.8867, grad_fn=<DivBackward0>)\n",
      "Epoch 20 : tensor(0.8786, grad_fn=<DivBackward0>)\n",
      "Epoch 21 : tensor(0.8710, grad_fn=<DivBackward0>)\n",
      "Epoch 22 : tensor(0.8707, grad_fn=<DivBackward0>)\n",
      "Epoch 23 : tensor(0.8619, grad_fn=<DivBackward0>)\n",
      "Epoch 24 : tensor(0.8535, grad_fn=<DivBackward0>)\n"
     ]
    }
   ],
   "source": [
    "def train(epochs, batch_size, CN):\n",
    "    feed_list, label_list = batch_handler_for_GCN(batch_size, CN)\n",
    "    feed_list = feed_list[0:760]\n",
    "    label_list = label_list[0:760]\n",
    "    Training_List = []\n",
    "    Testing_List = []\n",
    "    for i in range(epochs):\n",
    "        \n",
    "        Loss = 0\n",
    "        for in_dict, labels in zip(feed_list, label_list):\n",
    "            # zero gradient\n",
    "            model.zero_grad()\n",
    "            \n",
    "            pred = model(in_dict)\n",
    "            loss = criterion(pred, labels)\n",
    "            \n",
    "            loss.backward()\n",
    "            \n",
    "            optimizer.step()\n",
    "            \n",
    "            Loss += loss\n",
    "        \n",
    "        \n",
    "        print('Epoch', i, ':', Loss/760)\n",
    "        Training_List.append(Loss.detach().numpy()/760)\n",
    "        \n",
    "        Loss_Test, acc = test(10, CN)\n",
    "        Testing_List.append(Loss_Test)\n",
    "        \n",
    "        \n",
    "    return(Training_List,Testing_List)\n",
    "\n",
    "def test(batch_size, CN):\n",
    "    feed_list, label_list = batch_handler_for_GCN(batch_size, CN)\n",
    "    feed_list =  feed_list[761:855]\n",
    "    label_list = label_list[761:855]\n",
    "\n",
    "    correct = 0\n",
    "    total = 0\n",
    "    Loss = 0\n",
    "    for in_dict, labels in zip(feed_list, label_list):\n",
    "        # zero gradient\n",
    "\n",
    "        pred = model(in_dict)\n",
    "        \n",
    "        loss = criterion(pred, labels)\n",
    "        \n",
    "        Loss += loss\n",
    "        correct += ((labels == pred.argmax(dim = 1)).sum())\n",
    "        total += 10\n",
    "\n",
    "    return(Loss.detach().numpy()/(855-761), correct.float()/total)\n",
    "Loss, acc = test(10, CN)\n",
    "\n",
    "\n",
    "Training_Loss, Testing_Loss = train(25, 10, CN)"
   ]
  },
  {
   "cell_type": "code",
   "execution_count": 131,
   "metadata": {},
   "outputs": [],
   "source": [
    "Train_loss = np.array(Training_Loss)\n",
    "Test_loss = np.array(Testing_Loss)"
   ]
  },
  {
   "cell_type": "code",
   "execution_count": 132,
   "metadata": {},
   "outputs": [
    {
     "data": {
      "image/png": "[encoded data removed]",
      "text/plain": [
       "<Figure size 432x288 with 1 Axes>"
      ]
     },
     "metadata": {
      "needs_background": "light"
     },
     "output_type": "display_data"
    }
   ],
   "source": [
    "plt.plot(Train_loss, label='Train Loss')\n",
    "plt.plot(Test_loss, label='Test Loss')\n",
    "plt.legend()\n",
    "plt.title('Training and Testing Loss on a naive implementation of the GCN')\n",
    "plt.show()"
   ]
  },
  {
   "cell_type": "code",
   "execution_count": null,
   "metadata": {},
   "outputs": [],
   "source": []
  }
 ],
 "metadata": {
  "kernelspec": {
   "display_name": "Python 3",
   "language": "python",
   "name": "python3"
  },
  "language_info": {
   "codemirror_mode": {
    "name": "ipython",
    "version": 3
   },
   "file_extension": ".py",
   "mimetype": "text/x-python",
   "name": "python",
   "nbconvert_exporter": "python",
   "pygments_lexer": "ipython3",
   "version": "3.7.0"
  }
 },
 "nbformat": 4,
 "nbformat_minor": 2
}
