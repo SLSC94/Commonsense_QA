{
 "cells": [
  {
   "cell_type": "markdown",
   "metadata": {},
   "source": [
    "# Decoder Helper:\n",
    "\n",
    "### Run this to load the triplets"
   ]
  },
  {
   "cell_type": "code",
   "execution_count": 2,
   "metadata": {},
   "outputs": [],
   "source": [
    "import json"
   ]
  },
  {
   "cell_type": "code",
   "execution_count": 3,
   "metadata": {},
   "outputs": [],
   "source": [
    "temp_dev_triplets = json.load(open(\"dev_triplets.txt\"))\n",
    "temp_test_triplets = json.load(open(\"test_triplets.txt\"))\n",
    "temp_train_triplets = json.load(open(\"train_triplets.txt\"))\n",
    "\n",
    "def decoder(dictionary):\n",
    "    for key in dictionary.keys():\n",
    "        items = dictionary[key]\n",
    "        dictionary[key] = [tuple(item) for item in items]\n",
    "    return dictionary\n",
    "\n",
    "dev_triplets = decoder(temp_dev_triplets)\n",
    "test_triplets = decoder(temp_test_triplets)\n",
    "train_triplets = decoder(temp_train_triplets)"
   ]
  }
 ],
 "metadata": {
  "kernelspec": {
   "display_name": "Python 3",
   "language": "python",
   "name": "python3"
  },
  "language_info": {
   "codemirror_mode": {
    "name": "ipython",
    "version": 3
   },
   "file_extension": ".py",
   "mimetype": "text/x-python",
   "name": "python",
   "nbconvert_exporter": "python",
   "pygments_lexer": "ipython3",
   "version": "3.7.0"
  }
 },
 "nbformat": 4,
 "nbformat_minor": 2
}
